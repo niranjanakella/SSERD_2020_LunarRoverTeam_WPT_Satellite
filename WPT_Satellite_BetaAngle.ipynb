{
  "nbformat": 4,
  "nbformat_minor": 0,
  "metadata": {
    "colab": {
      "name": "WPT_Satellite.ipynb",
      "provenance": [],
      "collapsed_sections": [],
      "toc_visible": true
    },
    "kernelspec": {
      "display_name": "Python 3",
      "name": "python3"
    }
  },
  "cells": [
    {
      "cell_type": "markdown",
      "metadata": {
        "id": "-CUIzWUlsPfy"
      },
      "source": [
        "#Wireless Power Transmission Satellite Beta Angle Calculations"
      ]
    },
    {
      "cell_type": "code",
      "metadata": {
        "id": "3pgvdpOxYlYu"
      },
      "source": [
        "#Importing necessary libraries\n",
        "import math\n",
        "import matplotlib.pyplot as plt \n",
        "import numpy as np\n",
        "import random\n",
        "from matplotlib import style"
      ],
      "execution_count": null,
      "outputs": []
    },
    {
      "cell_type": "markdown",
      "metadata": {
        "id": "fQR6ds2mx6Pq"
      },
      "source": [
        "##Satellite class to compute Beta Angle"
      ]
    },
    {
      "cell_type": "code",
      "metadata": {
        "id": "_enm53BMcT-Y"
      },
      "source": [
        "class Satellite:\n",
        "  def __str__(Self):\n",
        "    return 'Enter the necessary parameter of the satellite.\\n Various parameters must be given in degrees '\n",
        "  def __init__(self):\n",
        "    self.Gaama_st = 0\n",
        "    self.Inclination = 0\n",
        "    self.Omega_t = 0\n",
        "    self.Omega_st = 0\n",
        "  def BetaAngle(self):\n",
        "    Beta = math.asin((math.cos(math.radians(self.Gaama_st))*math.sin(math.radians(self.Inclination))*math.sin(math.radians((self.Omega_t-self.Omega_st))))+(math.sin(math.radians(self.Gaama_st))*math.cos(math.radians(self.Inclination))))\n",
        "    if Beta<0:\n",
        "      ans = abs(Beta+1.570796327)*(180/np.pi)\n",
        "      return ans\n",
        "      # print(str(Beta+1.570796327)+' Degrees')\n",
        "      # print(str(ans)+' Radians')\n",
        "    elif Beta>=0:\n",
        "      ans = (Beta)*(180/np.pi)\n",
        "      return ans\n",
        "      # print(str(Beta)+' Degrees')\n",
        "      # print(str(ans)+' Radians')"
      ],
      "execution_count": null,
      "outputs": []
    },
    {
      "cell_type": "code",
      "metadata": {
        "id": "lWgR6VoFcVWm"
      },
      "source": [
        "#Parameters for calculating Beta Angle\n",
        "\n",
        "satellite = Satellite()\n",
        "\n",
        "satellite.Gaama_st = -1.548     #Angle of declination of Sun\n",
        "satellite.Inclination = 21.902 #Angle of Inclinaton of orbit with respect to Equatorial plane of Earth\n",
        "satellite.Omega_t = 4.308      #Right Ascension of Ascending Node (RAAN)\n",
        "satellite.Omega_st = 0         #Right Ascension of Sun"
      ],
      "execution_count": null,
      "outputs": []
    },
    {
      "cell_type": "markdown",
      "metadata": {
        "id": "msMwKEJ5yI8C"
      },
      "source": [
        "##Calculating the positive half-cycle and the negative half-cycle of the orbit  "
      ]
    },
    {
      "cell_type": "code",
      "metadata": {
        "id": "IbJs5sWNcW4G",
        "outputId": "aec7b771-18d0-42b8-aea4-f1cfeb815ceb",
        "colab": {
          "base_uri": "https://localhost:8080/"
        }
      },
      "source": [
        "halfdays = []\n",
        "for i in range(1,366):\n",
        "    if i%13==0:\n",
        "        halfdays.append(i)\n",
        "halfdays.insert(0,1)\n",
        "len(halfdays)"
      ],
      "execution_count": null,
      "outputs": [
        {
          "output_type": "execute_result",
          "data": {
            "text/plain": [
              "29"
            ]
          },
          "metadata": {
            "tags": []
          },
          "execution_count": 5
        }
      ]
    },
    {
      "cell_type": "markdown",
      "metadata": {
        "id": "16tAjf4FyuNu"
      },
      "source": [
        "##Creating a list of all the possible Beta Angle values throughout one Earth year"
      ]
    },
    {
      "cell_type": "code",
      "metadata": {
        "id": "YotYmprAN8Py"
      },
      "source": [
        "Beta_Angles_Degrees = []\n",
        "Days = []\n",
        "for day in range(1,366):\n",
        "    if (day>= halfdays[0] and day< halfdays[1]):\n",
        "        satellite.Gaama_st=1.548\n",
        "        Days.append(day)\n",
        "        satellite.Omega_st += 13.187\n",
        "        Beta_Angles_Degrees.append(satellite.BetaAngle())\n",
        "    elif (day>= halfdays[1] and day< halfdays[2]):\n",
        "        satellite.Gaama_st=-1.548\n",
        "        Days.append(day)\n",
        "        satellite.Omega_st += 13.187\n",
        "        Beta_Angles_Degrees.append(satellite.BetaAngle())\n",
        "    elif(day>= halfdays[2] and day< halfdays[3]):\n",
        "        satellite.Gaama_st=1.548\n",
        "        Days.append(day)\n",
        "        satellite.Omega_st += 13.187\n",
        "        Beta_Angles_Degrees.append(satellite.BetaAngle())\n",
        "    elif(day>= halfdays[3] and day< halfdays[4]):\n",
        "        satellite.Gaama_st=-1.548\n",
        "        Days.append(day)\n",
        "        satellite.Omega_st += 13.187\n",
        "        Beta_Angles_Degrees.append(satellite.BetaAngle())\n",
        "    elif(day>= halfdays[4] and day< halfdays[5]):\n",
        "        satellite.Gaama_st=1.548\n",
        "        Days.append(day)\n",
        "        satellite.Omega_st += 13.187\n",
        "        Beta_Angles_Degrees.append(satellite.BetaAngle())\n",
        "    elif(day>= halfdays[5] and day< halfdays[6]):\n",
        "        satellite.Gaama_st=1.548\n",
        "        Days.append(day)\n",
        "        satellite.Omega_st += 13.187\n",
        "        Beta_Angles_Degrees.append(satellite.BetaAngle())\n",
        "    if (day>= halfdays[6] and day< halfdays[7]):\n",
        "        satellite.Gaama_st=1.548\n",
        "        Days.append(day)\n",
        "        satellite.Omega_st += 13.187\n",
        "        Beta_Angles_Degrees.append(satellite.BetaAngle())\n",
        "    elif (day>= halfdays[7] and day< halfdays[8]):\n",
        "        satellite.Gaama_st=-1.548\n",
        "        Days.append(day)\n",
        "        satellite.Omega_st += 13.187\n",
        "        Beta_Angles_Degrees.append(satellite.BetaAngle())\n",
        "    elif(day>= halfdays[8] and day< halfdays[9]):\n",
        "        satellite.Gaama_st=1.548\n",
        "        Days.append(day)\n",
        "        satellite.Omega_st += 13.187\n",
        "        Beta_Angles_Degrees.append(satellite.BetaAngle())\n",
        "    elif(day>= halfdays[10] and day< halfdays[11]):\n",
        "        satellite.Gaama_st=-1.548\n",
        "        Days.append(day)\n",
        "        satellite.Omega_st += 13.187\n",
        "        Beta_Angles_Degrees.append(satellite.BetaAngle())\n",
        "    elif(day>= halfdays[11] and day< halfdays[12]):\n",
        "        satellite.Gaama_st=1.548\n",
        "        Days.append(day)\n",
        "        satellite.Omega_st += 13.187\n",
        "        Beta_Angles_Degrees.append(satellite.BetaAngle())\n",
        "    elif(day>= halfdays[12] and day< halfdays[13]):\n",
        "        satellite.Gaama_st=1.548\n",
        "        Days.append(day)\n",
        "        satellite.Omega_st += 13.187\n",
        "        Beta_Angles_Degrees.append(satellite.BetaAngle())\n",
        "    if (day>= halfdays[13] and day< halfdays[14]):\n",
        "        satellite.Gaama_st=1.548\n",
        "        Days.append(day)\n",
        "        satellite.Omega_st += 13.187\n",
        "        Beta_Angles_Degrees.append(satellite.BetaAngle())\n",
        "    elif (day>= halfdays[14] and day< halfdays[15]):\n",
        "        satellite.Gaama_st=-1.548\n",
        "        Days.append(day)\n",
        "        satellite.Omega_st += 13.187\n",
        "        Beta_Angles_Degrees.append(satellite.BetaAngle())\n",
        "    elif(day>= halfdays[15] and day< halfdays[16]):\n",
        "        satellite.Gaama_st=1.548\n",
        "        Days.append(day)\n",
        "        satellite.Omega_st += 13.187\n",
        "        Beta_Angles_Degrees.append(satellite.BetaAngle())\n",
        "    elif(day>= halfdays[16] and day< halfdays[17]):\n",
        "        satellite.Gaama_st=-1.548\n",
        "        Days.append(day)\n",
        "        satellite.Omega_st += 13.187\n",
        "        Beta_Angles_Degrees.append(satellite.BetaAngle())\n",
        "    elif(day>= halfdays[17] and day< halfdays[18]):\n",
        "        satellite.Gaama_st=1.548\n",
        "        Days.append(day)\n",
        "        satellite.Omega_st += 13.187\n",
        "        Beta_Angles_Degrees.append(satellite.BetaAngle())\n",
        "    elif(day>= halfdays[18] and day< halfdays[19]):\n",
        "        satellite.Gaama_st=1.548\n",
        "        Days.append(day)\n",
        "        satellite.Omega_st += 13.187\n",
        "        Beta_Angles_Degrees.append(satellite.BetaAngle())\n",
        "    if (day>= halfdays[19] and day< halfdays[20]):\n",
        "        satellite.Gaama_st=1.548\n",
        "        Days.append(day)\n",
        "        satellite.Omega_st += 13.187\n",
        "        Beta_Angles_Degrees.append(satellite.BetaAngle())\n",
        "    elif (day>= halfdays[20] and day< halfdays[21]):\n",
        "        satellite.Gaama_st=-1.548\n",
        "        Days.append(day)\n",
        "        satellite.Omega_st += 13.187\n",
        "        Beta_Angles_Degrees.append(satellite.BetaAngle())\n",
        "    elif(day>= halfdays[21] and day< halfdays[22]):\n",
        "        satellite.Gaama_st=1.548\n",
        "        Days.append(day)\n",
        "        satellite.Omega_st += 13.187\n",
        "        Beta_Angles_Degrees.append(satellite.BetaAngle())\n",
        "    elif(day>= halfdays[22] and day< halfdays[23]):\n",
        "        satellite.Gaama_st=-1.548\n",
        "        Days.append(day)\n",
        "        satellite.Omega_st += 13.187\n",
        "        Beta_Angles_Degrees.append(satellite.BetaAngle())\n",
        "    elif(day>= halfdays[23] and day< halfdays[24]):\n",
        "        satellite.Gaama_st=1.548\n",
        "        Days.append(day)\n",
        "        satellite.Omega_st += 13.187\n",
        "        Beta_Angles_Degrees.append(satellite.BetaAngle())\n",
        "    elif(day>= halfdays[24] and day< halfdays[25]):\n",
        "        satellite.Gaama_st=1.548\n",
        "        Days.append(day)\n",
        "        satellite.Omega_st += 13.187\n",
        "        Beta_Angles_Degrees.append(satellite.BetaAngle())\n",
        "    if (day>= halfdays[25] and day< halfdays[26]):\n",
        "        satellite.Gaama_st=1.548\n",
        "        Days.append(day)\n",
        "        satellite.Omega_st += 13.187\n",
        "        Beta_Angles_Degrees.append(satellite.BetaAngle())\n",
        "    elif (day>= halfdays[26] and day< halfdays[27]):\n",
        "        satellite.Gaama_st=-1.548\n",
        "        Days.append(day)\n",
        "        satellite.Omega_st += 13.187\n",
        "        Beta_Angles_Degrees.append(satellite.BetaAngle())\n",
        "    elif(day>= halfdays[27] and day<= halfdays[28]):\n",
        "        satellite.Gaama_st=1.548\n",
        "        Days.append(day)\n",
        "        satellite.Omega_st += 13.187\n",
        "        Beta_Angles_Degrees.append(satellite.BetaAngle())\n"
      ],
      "execution_count": null,
      "outputs": []
    },
    {
      "cell_type": "code",
      "metadata": {
        "id": "dgMnE6MpcaZO",
        "outputId": "0a6aef65-a28e-4ce0-938d-c843ed9755a9",
        "colab": {
          "base_uri": "https://localhost:8080/"
        }
      },
      "source": [
        "len(Beta_Angles_Degrees)"
      ],
      "execution_count": null,
      "outputs": [
        {
          "output_type": "execute_result",
          "data": {
            "text/plain": [
              "351"
            ]
          },
          "metadata": {
            "tags": []
          },
          "execution_count": 7
        }
      ]
    },
    {
      "cell_type": "markdown",
      "metadata": {
        "id": "Bi43i91wy9V-"
      },
      "source": [
        "##Angle Fluctuations\n",
        "Since Beta Angle lies between 0 degrees to 90 degrees the graphical representation of the same would result in unecessary spikes in the output graph. So, any value fluctuation resulting in angle greater than 90 degrees would result in a low value which on the output graph would represent a low spike. Hence, adjacent values are correlated for optimized output."
      ]
    },
    {
      "cell_type": "code",
      "metadata": {
        "id": "PNzufIoNccNu"
      },
      "source": [
        "for i in range(1,len(Beta_Angles_Degrees)):\n",
        "    if Beta_Angles_Degrees[i]*2 < Beta_Angles_Degrees[i-1]:\n",
        "        Beta_Angles_Degrees[i]=90+Beta_Angles_Degrees[i]\n",
        "    else: continue"
      ],
      "execution_count": null,
      "outputs": []
    },
    {
      "cell_type": "code",
      "metadata": {
        "id": "FU-rlNjscd82",
        "outputId": "fe31f901-b74d-411a-b193-cff99c636aef",
        "colab": {
          "base_uri": "https://localhost:8080/",
          "height": 636
        }
      },
      "source": [
        "#Beta angle variation with respect to Right Ascension of Sun\n",
        "plt.figure(figsize=(20,10))\n",
        "style.use('fivethirtyeight')\n",
        "plt.plot(Days,Beta_Angles_Degrees, linestyle='-', color='b')\n",
        "plt.xlim(-10,380)\n",
        "plt.ylim(-10,200)\n",
        "# plt.xticks(RAAN_Angles)\n",
        "plt.xlabel('RAS Angle')\n",
        "plt.ylabel('Beta Angle')\n",
        "plt.legend() \n",
        "#plt.savefig('BetaAngle_at_Various_RAS_FullYear.png', transparent = False,dpi=300, bbox_inches='tight',facecolor = 'w')         #Save the Plot\n",
        "plt.show()\n"
      ],
      "execution_count": null,
      "outputs": [
        {
          "output_type": "stream",
          "text": [
            "No handles with labels found to put in legend.\n"
          ],
          "name": "stderr"
        },
        {
          "output_type": "display_data",
          "data": {
            "image/png": "[encoded data removed]",
            "text/plain": [
              "<Figure size 1440x720 with 1 Axes>"
            ]
          },
          "metadata": {
            "tags": [],
            "needs_background": "light"
          }
        }
      ]
    },
    {
      "cell_type": "code",
      "metadata": {
        "id": "fdiBQm--cka-"
      },
      "source": [
        ""
      ],
      "execution_count": null,
      "outputs": []
    }
  ]
}