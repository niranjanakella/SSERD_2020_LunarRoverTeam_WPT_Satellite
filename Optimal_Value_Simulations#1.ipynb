{
 "metadata": {
  "language_info": {
   "codemirror_mode": {
    "name": "ipython",
    "version": 3
   },
   "file_extension": ".py",
   "mimetype": "text/x-python",
   "name": "python",
   "nbconvert_exporter": "python",
   "pygments_lexer": "ipython3",
   "version": "3.7.1-final"
  },
  "orig_nbformat": 2,
  "kernelspec": {
   "name": "python3",
   "display_name": "Python 3"
  }
 },
 "nbformat": 4,
 "nbformat_minor": 2,
 "cells": [
  {
   "cell_type": "code",
   "execution_count": 1,
   "metadata": {},
   "outputs": [],
   "source": [
    "import math\n",
    "import matplotlib.pyplot as plt"
   ]
  },
  {
   "cell_type": "code",
   "execution_count": 136,
   "metadata": {},
   "outputs": [
    {
     "output_type": "execute_result",
     "data": {
      "text/plain": [
       "7.16197243913529e-06"
      ]
     },
     "metadata": {},
     "execution_count": 136
    }
   ],
   "source": [
    "lamda = 0.001#400*(10**-9)\n",
    "g = 90\n",
    "d = 86665.23\n",
    "Ae = ((lamda**2)/(4*math.pi))*g\n",
    "Ae"
   ]
  },
  {
   "cell_type": "code",
   "execution_count": 134,
   "metadata": {},
   "outputs": [
    {
     "output_type": "execute_result",
     "data": {
      "text/plain": [
       "5.699316579881499e-14"
      ]
     },
     "metadata": {},
     "execution_count": 134
    }
   ],
   "source": [
    "#Ae = 213 #53 = 90 => 209 = 99.99 & 213 => 100%   \n",
    "Friis_Eq = (Ae**2)/((lamda*(30*1000))**2)#86665.23\n",
    "Friis_Eq"
   ]
  },
  {
   "cell_type": "code",
   "execution_count": 135,
   "metadata": {},
   "outputs": [
    {
     "output_type": "execute_result",
     "data": {
      "text/plain": [
       "5.695444116327053e-14"
      ]
     },
     "metadata": {},
     "execution_count": 135
    }
   ],
   "source": [
    "efficiency = 1-(math.exp(-Friis_Eq))\n",
    "efficiency"
   ]
  },
  {
   "cell_type": "code",
   "execution_count": 22,
   "metadata": {},
   "outputs": [
    {
     "output_type": "execute_result",
     "data": {
      "text/plain": [
       "0.001"
      ]
     },
     "metadata": {},
     "execution_count": 22
    }
   ],
   "source": [
    "Pt = 50 #dbm\n",
    "Gt = 90 #dbm\n",
    "Gr = 90 #dbm\n",
    "d = 86665230 #meters \n",
    "lamda = 0.000999 #300 GHz\n",
    "\n",
    "Pr = (Pt*Gt*Gr*(lamda**2))/((4*math.pi*d)**2)\n",
    "Pr = 10**((Pr-30)/10)\n",
    "Pr"
   ]
  },
  {
   "cell_type": "code",
   "execution_count": 221,
   "metadata": {},
   "outputs": [],
   "source": [
    "Power_Receiver = []\n",
    "km = []\n",
    "for i in range(1,86665):\n",
    "    km.append(i)\n",
    "    Pr = (Pt*Gt*Gr*(lamda**2))/((4*math.pi*(i*1000))**2)\n",
    "    Power_Receiver.append(Pr)\n",
    "\n"
   ]
  },
  {
   "cell_type": "code",
   "execution_count": 223,
   "metadata": {},
   "outputs": [
    {
     "output_type": "display_data",
     "data": {
      "text/plain": "<Figure size 432x288 with 1 Axes>",
      "image/png": "[encoded data removed]"
     },
     "metadata": {
      "needs_background": "light"
     }
    }
   ],
   "source": [
    "\n",
    "plt.plot(km,Power_Receiver)\n",
    "plt.xlabel('Distance (Km)')\n",
    "plt.ylabel('Power Received at Rx')\n",
    "# plt.savefig('WPT_Graph.png', transparent = False,dpi=300, bbox_inches='tight',facecolor = 'w') \n",
    "plt.show()"
   ]
  },
  {
   "cell_type": "code",
   "execution_count": null,
   "metadata": {},
   "outputs": [],
   "source": []
  }
 ]
}